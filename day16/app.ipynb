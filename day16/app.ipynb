{
 "cells": [
  {
   "cell_type": "code",
   "execution_count": 2,
   "metadata": {},
   "outputs": [
    {
     "name": "stdout",
     "output_type": "stream",
     "text": [
      "Attendance\n",
      "Face Database not found. Halt\n"
     ]
    }
   ],
   "source": [
    "import tkinter as ttk\n",
    "from tkinter import font\n",
    "app = ttk.Tk()\n",
    "app.title('Attendance System')\n",
    "app.geometry('600x400')\n",
    "app.config(background='white')\n",
    "font_ = font.Font(size=20)\n",
    "\n",
    "ttk.Label(\n",
    "    app, \n",
    "    text='Face Recognition based Attendance System',\n",
    "    font=font_\n",
    ").pack()\n",
    "\n",
    "def register():\n",
    "    app.destroy()    \n",
    "    with open('opr','w') as f:\n",
    "        f.write('register')\n",
    "    import login\n",
    "    \n",
    "def attendance():\n",
    "    print('Attendance')\n",
    "    import attendence\n",
    "    attendence.attendance()\n",
    "    \n",
    "\n",
    "def clear_data():\n",
    "    app.destroy()   \n",
    "    with open('opr','w') as f:\n",
    "        f.write('clear')\n",
    "    import login\n",
    "\n",
    "ttk.Button(\n",
    "    app, text='Register', command=register, font=font_,\n",
    "    height=3, width=15,\n",
    ").pack(expand=True)\n",
    "ttk.Button(\n",
    "    app, text='Attendance', command=attendance,font=font_,\n",
    "    height=3, width=15,\n",
    ").pack(expand=True)\n",
    "ttk.Button(\n",
    "    app, text='Clear Data', command=clear_data,font=font_,\n",
    "    height=3, width=15,\n",
    ").pack(expand=True)\n",
    "\n",
    "app.mainloop()"
   ]
  },
  {
   "cell_type": "code",
   "execution_count": 1,
   "metadata": {},
   "outputs": [
    {
     "name": "stdout",
     "output_type": "stream",
     "text": [
      "Requirement already satisfied: flask in c:\\users\\prince chandra\\anaconda3\\lib\\site-packages (2.2.2)\n",
      "Requirement already satisfied: Jinja2>=3.0 in c:\\users\\prince chandra\\anaconda3\\lib\\site-packages (from flask) (3.1.2)\n",
      "Requirement already satisfied: itsdangerous>=2.0 in c:\\users\\prince chandra\\anaconda3\\lib\\site-packages (from flask) (2.0.1)\n",
      "Requirement already satisfied: click>=8.0 in c:\\users\\prince chandra\\anaconda3\\lib\\site-packages (from flask) (8.0.4)\n",
      "Requirement already satisfied: Werkzeug>=2.2.2 in c:\\users\\prince chandra\\anaconda3\\lib\\site-packages (from flask) (2.2.2)\n",
      "Requirement already satisfied: colorama in c:\\users\\prince chandra\\appdata\\roaming\\python\\python310\\site-packages (from click>=8.0->flask) (0.4.6)\n",
      "Requirement already satisfied: MarkupSafe>=2.0 in c:\\users\\prince chandra\\anaconda3\\lib\\site-packages (from Jinja2>=3.0->flask) (2.1.1)\n"
     ]
    }
   ],
   "source": [
    "!python -m pip install flask"
   ]
  },
  {
   "cell_type": "code",
   "execution_count": null,
   "metadata": {},
   "outputs": [],
   "source": []
  }
 ],
 "metadata": {
  "kernelspec": {
   "display_name": "base",
   "language": "python",
   "name": "python3"
  },
  "language_info": {
   "codemirror_mode": {
    "name": "ipython",
    "version": 3
   },
   "file_extension": ".py",
   "mimetype": "text/x-python",
   "name": "python",
   "nbconvert_exporter": "python",
   "pygments_lexer": "ipython3",
   "version": "3.10.9"
  },
  "orig_nbformat": 4
 },
 "nbformat": 4,
 "nbformat_minor": 2
}
